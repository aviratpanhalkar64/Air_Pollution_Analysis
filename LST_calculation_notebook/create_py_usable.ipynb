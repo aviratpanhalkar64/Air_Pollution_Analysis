{
 "cells": [
  {
   "cell_type": "markdown",
   "metadata": {},
   "source": [
    "# Calculating Indices from landsat Demo\n",
    "\n",
    "## Data description :\n",
    "Landsat 8 l1c1 Satellite Imagery from https://earthexplorer.usgs.gov/\n",
    "\n",
    "Operational Land Imager (OLI)  -  Built by Ball Aerospace & Technologies Corporation\n",
    "\n",
    "Nine spectral bands, including a pan band:\n",
    "\n",
    "Band 1 Visible (0.43 - 0.45 µm) 30 m \n",
    "\n",
    "Band 2 Visible (0.450 - 0.51 µm) 30 m\n",
    "\n",
    "Band 3 Visible (0.53 - 0.59 µm) 30 m\n",
    "\n",
    "Band 4 Red (0.64 - 0.67 µm) 30 m\n",
    "\n",
    "Band 5 Near-Infrared (0.85 - 0.88 µm) 30 m\n",
    "\n",
    "Band 6 SWIR 1(1.57 - 1.65 µm) 30 m\n",
    "\n",
    "Band 7 SWIR 2 (2.11 - 2.29 µm) 30 m\n",
    "\n",
    "Band 8 Panchromatic (PAN) (0.50 - 0.68 µm) 15 m\n",
    "\n",
    "Band 9 Cirrus (1.36 - 1.38 µm) 30 m\n",
    "\n",
    "\n",
    ".MTL file which includes metadata information necessary for the radiance, reflectance and brightness calculations\n",
    "\n",
    "\n",
    "#### All the Radiometric corrections and caliberations have been performed using Landsat 8 handbook gievn bby USGS\n",
    "\n",
    "https://www.usgs.gov/media/files/landsat-8-data-users-handbook\n",
    "\n",
    "## Indices Description\n",
    "### NDVI\n",
    "\n",
    "The normalized difference vegetation index (NDVI) is a standardized index allowing you to generate an image displaying greenness, also known as relative biomass.\n",
    "\n",
    "NDVI = ((NIR - Red)/(NIR + Red))\n",
    "    \n",
    "    \n",
    "### NDMI\n",
    "\n",
    "The Normalized Difference Moisture Index (NDMI) is sensitive to the moisture levels in vegetation. It is used to monitor droughts as well as monitor fuel levels in fire-prone areas.\n",
    "\n",
    "NDMI = (NIR - SWIR1)/(NIR + SWIR1)\n",
    "\n",
    "### NDBI\n",
    "\n",
    "The Normalized Difference Built-up Index (NDBI) uses the NIR and SWIR bands to emphasize man-made built-up areas. It is ratio based to mitigate the effects of terrain illumination differences as well as atmospheric effects.\n",
    "\n",
    "NDBI = (SWIR - NIR) / (SWIR + NIR)\n",
    "\n",
    "### MNDWI\n",
    "\n",
    "The Modified Normalized Difference Water Index (MNDWI) uses green and SWIR bands for the enhancement of open water features. It also diminishes built-up area features that are often correlated with open water in other indices.\n",
    "\n",
    "MNDWI = (Green - SWIR) / (Green + SWIR)\n",
    "\n",
    "### Albedo\n",
    "\n",
    "Albedo is an important property of the Earth surface heat budget. A simple definition of albedo (a) is the average reflectance of the sun’s spectrum. This unitless quantity has values ranging from 0 to 1.0 and will vary based on the land cover. For example snow would have a high value and coniferous forests a low value.\n",
    "\n",
    "### Land Surface Temperature\n",
    "\n",
    "Land Surface integrated with Temperature (LST), the skin\n",
    "temperature of the ground, is identified as a significant\n",
    "variable of microclimate and radiation transfer within the\n",
    "atmosphere.\n",
    "\n",
    "https://ijret.org/volumes/2016v05/i01/IJRET20160501017.pdf#:~:text=Land%20surface%20temperature%20is%20the,surface%20emissivity%20and%20brightness%20values."
   ]
  },
  {
   "cell_type": "code",
   "execution_count": 1,
   "metadata": {},
   "outputs": [
    {
     "name": "stdout",
     "output_type": "stream",
     "text": [
      "Check the output foder\n"
     ]
    }
   ],
   "source": [
    "import landsat_usable as lu\n",
    "import os\n",
    "import matplotlib.pyplot as plt\n",
    "import geopandas as gpd\n",
    "REGION = 'Banglore'\n",
    "UTM = 32643\n",
    "WGS84 = 4326\n",
    "extent= 76.732178,12.672011,78.006592,13.420765\n",
    "landsat_indices_obj = lu.calc_landsat_indices(REGION, UTM, WGS84, extent)\n",
    "landsat_indices_obj.mainfunction_landsat_calculation()"
   ]
  },
  {
   "cell_type": "code",
   "execution_count": 3,
   "metadata": {},
   "outputs": [],
   "source": [
    "region_box , bbox = landsat_indices_obj.tuple_to_geojson(extent)"
   ]
  },
  {
   "cell_type": "code",
   "execution_count": 4,
   "metadata": {},
   "outputs": [
    {
     "data": {
      "text/html": [
       "<div>\n",
       "<style scoped>\n",
       "    .dataframe tbody tr th:only-of-type {\n",
       "        vertical-align: middle;\n",
       "    }\n",
       "\n",
       "    .dataframe tbody tr th {\n",
       "        vertical-align: top;\n",
       "    }\n",
       "\n",
       "    .dataframe thead th {\n",
       "        text-align: right;\n",
       "    }\n",
       "</style>\n",
       "<table border=\"1\" class=\"dataframe\">\n",
       "  <thead>\n",
       "    <tr style=\"text-align: right;\">\n",
       "      <th></th>\n",
       "      <th>geometry</th>\n",
       "    </tr>\n",
       "  </thead>\n",
       "  <tbody>\n",
       "    <tr>\n",
       "      <th>0</th>\n",
       "      <td>POLYGON ((517368.153 1349119.270, 517248.123 1...</td>\n",
       "    </tr>\n",
       "  </tbody>\n",
       "</table>\n",
       "</div>"
      ],
      "text/plain": [
       "                                            geometry\n",
       "0  POLYGON ((517368.153 1349119.270, 517248.123 1..."
      ]
     },
     "execution_count": 4,
     "metadata": {},
     "output_type": "execute_result"
    }
   ],
   "source": [
    "region_box"
   ]
  },
  {
   "cell_type": "code",
   "execution_count": 5,
   "metadata": {},
   "outputs": [
    {
     "data": {
      "text/plain": [
       "(79.127198, 12.204022, 81.159668, 13.926959)"
      ]
     },
     "execution_count": 5,
     "metadata": {},
     "output_type": "execute_result"
    }
   ],
   "source": [
    "bbox"
   ]
  },
  {
   "cell_type": "code",
   "execution_count": 6,
   "metadata": {},
   "outputs": [
    {
     "data": {
      "text/plain": [
       "<AxesSubplot:>"
      ]
     },
     "execution_count": 6,
     "metadata": {},
     "output_type": "execute_result"
    },
    {
     "data": {
      "image/png": "[encoded data removed]",
      "text/plain": [
       "<Figure size 432x288 with 1 Axes>"
      ]
     },
     "metadata": {
      "needs_background": "light"
     },
     "output_type": "display_data"
    }
   ],
   "source": [
    "region_box.plot()"
   ]
  },
  {
   "cell_type": "code",
   "execution_count": null,
   "metadata": {},
   "outputs": [],
   "source": [
    "ndvi, ndviarray =landsat_indices_obj.read_data_asarray(f'data/output/{REGION}/20190521_{REGION}_ndvi.tif')"
   ]
  },
  {
   "cell_type": "code",
   "execution_count": null,
   "metadata": {},
   "outputs": [],
   "source": [
    "%matplotlib inline\n",
    "plt.figure(figsize = (25,10))\n",
    "plt.imshow(ndviarray)\n",
    "plt.plot()\n",
    "plt.colorbar()"
   ]
  },
  {
   "cell_type": "code",
   "execution_count": 19,
   "metadata": {},
   "outputs": [],
   "source": [
    "mndwi, mndwiarray =landsat_indices_obj.read_data_asarray(f'data/output/{REGION}/20190521_{REGION}_mndwi.tif')"
   ]
  },
  {
   "cell_type": "code",
   "execution_count": 20,
   "metadata": {},
   "outputs": [
    {
     "data": {
      "text/plain": [
       "<matplotlib.colorbar.Colorbar at 0x1f310636ec8>"
      ]
     },
     "execution_count": 20,
     "metadata": {},
     "output_type": "execute_result"
    },
    {
     "data": {
      "image/png": "[encoded data removed]",
      "text/plain": [
       "<Figure size 1800x720 with 2 Axes>"
      ]
     },
     "metadata": {
      "needs_background": "light"
     },
     "output_type": "display_data"
    }
   ],
   "source": [
    "%matplotlib inline\n",
    "plt.figure(figsize = (25,10))\n",
    "plt.imshow(mndwiarray[1:])\n",
    "plt.plot()\n",
    "plt.colorbar()"
   ]
  },
  {
   "cell_type": "code",
   "execution_count": null,
   "metadata": {},
   "outputs": [],
   "source": [
    "###\n",
    "\n",
    "Requirements.txt\n",
    "initialize the classes\n",
    "\n"
   ]
  }
 ],
 "metadata": {
  "kernelspec": {
   "display_name": "Python 3 (ipykernel)",
   "language": "python",
   "name": "python3"
  },
  "language_info": {
   "codemirror_mode": {
    "name": "ipython",
    "version": 3
   },
   "file_extension": ".py",
   "mimetype": "text/x-python",
   "name": "python",
   "nbconvert_exporter": "python",
   "pygments_lexer": "ipython3",
   "version": "3.8.12"
  }
 },
 "nbformat": 4,
 "nbformat_minor": 4
}
