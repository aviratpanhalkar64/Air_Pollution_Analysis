{
 "cells": [
  {
   "cell_type": "markdown",
   "id": "1b5ef987-5822-4a13-ab36-c66a8d9a065b",
   "metadata": {},
   "source": [
    "### Import pandas library"
   ]
  },
  {
   "cell_type": "code",
   "execution_count": 11,
   "id": "f14f9073-1998-4f23-8a4e-79455b45f892",
   "metadata": {},
   "outputs": [],
   "source": [
    "import pandas as pd\n",
    "import matplotlib.pyplot as plt\n",
    "%matplotlib inline\n"
   ]
  },
  {
   "cell_type": "markdown",
   "id": "defdcebf-9e28-4f87-a03a-58fdb2c81a03",
   "metadata": {},
   "source": [
    "### Read all data \n",
    "Read all month spatial_join data monthwise and concat it by year"
   ]
  },
  {
   "cell_type": "code",
   "execution_count": 2,
   "id": "9a4e13bd-7b3b-47f9-8837-9c1d83fba9b9",
   "metadata": {},
   "outputs": [],
   "source": [
    "df1 = pd.read_csv(\"C:/Users/rajpa/Desktop/final_JOIN/2019/January2019_spatial_join.csv\")\n",
    "df2 = pd.read_csv(\"C:/Users/rajpa/Desktop/final_JOIN/2019/February2019_spatial_join.csv\")\n",
    "df3 = pd.read_csv(\"C:/Users/rajpa/Desktop/final_JOIN/2019/April2019_spatial_join.csv\")\n",
    "df4 = pd.read_csv(\"C:/Users/rajpa/Desktop/final_JOIN/2019/May2019_spatial_join.csv\")\n",
    "\n",
    "\n"
   ]
  },
  {
   "cell_type": "markdown",
   "id": "48c1d1da-92e5-4667-ae0e-d0181c603e55",
   "metadata": {},
   "source": [
    "### Used concat to join all month dataframes in one dataftame"
   ]
  },
  {
   "cell_type": "code",
   "execution_count": 3,
   "id": "7ad576e6-e3a6-4fb4-9027-9baf1f9b5377",
   "metadata": {},
   "outputs": [],
   "source": [
    "df_concat_2019 = pd.concat([df1, df2,df3,df4])"
   ]
  },
  {
   "cell_type": "code",
   "execution_count": 4,
   "id": "d1d5f92d-1f0c-40ee-a8dc-f4fe713fb7a8",
   "metadata": {},
   "outputs": [
    {
     "data": {
      "text/html": [
       "<div>\n",
       "<style scoped>\n",
       "    .dataframe tbody tr th:only-of-type {\n",
       "        vertical-align: middle;\n",
       "    }\n",
       "\n",
       "    .dataframe tbody tr th {\n",
       "        vertical-align: top;\n",
       "    }\n",
       "\n",
       "    .dataframe thead th {\n",
       "        text-align: right;\n",
       "    }\n",
       "</style>\n",
       "<table border=\"1\" class=\"dataframe\">\n",
       "  <thead>\n",
       "    <tr style=\"text-align: right;\">\n",
       "      <th></th>\n",
       "      <th>Unnamed: 0</th>\n",
       "      <th>locationId</th>\n",
       "      <th>location</th>\n",
       "      <th>city</th>\n",
       "      <th>country</th>\n",
       "      <th>utc</th>\n",
       "      <th>date</th>\n",
       "      <th>time</th>\n",
       "      <th>value</th>\n",
       "      <th>unit</th>\n",
       "      <th>...</th>\n",
       "      <th>geometry</th>\n",
       "      <th>index_right</th>\n",
       "      <th>id</th>\n",
       "      <th>left</th>\n",
       "      <th>top</th>\n",
       "      <th>right</th>\n",
       "      <th>bottom</th>\n",
       "      <th>_mean</th>\n",
       "      <th>_min</th>\n",
       "      <th>_max</th>\n",
       "    </tr>\n",
       "  </thead>\n",
       "  <tbody>\n",
       "    <tr>\n",
       "      <th>0</th>\n",
       "      <td>0</td>\n",
       "      <td>5547</td>\n",
       "      <td>BWSSB Kadabesanahalli, Bengaluru - CPCB</td>\n",
       "      <td>Bengaluru</td>\n",
       "      <td>IN</td>\n",
       "      <td>2019-01-03T16:30:00+00:00</td>\n",
       "      <td>03-01-2019</td>\n",
       "      <td>T22:00:00+05:30</td>\n",
       "      <td>64.22</td>\n",
       "      <td>Âµg/mÂ³</td>\n",
       "      <td>...</td>\n",
       "      <td>POLYGON ((791451.4337743779 1431495.139632156,...</td>\n",
       "      <td>83516</td>\n",
       "      <td>83517</td>\n",
       "      <td>790696.557282</td>\n",
       "      <td>1.431092e+06</td>\n",
       "      <td>790796.557282</td>\n",
       "      <td>1.430992e+06</td>\n",
       "      <td>29.572025</td>\n",
       "      <td>28.227926</td>\n",
       "      <td>30.658538</td>\n",
       "    </tr>\n",
       "    <tr>\n",
       "      <th>1</th>\n",
       "      <td>6</td>\n",
       "      <td>5547</td>\n",
       "      <td>BWSSB Kadabesanahalli, Bengaluru - CPCB</td>\n",
       "      <td>Bengaluru</td>\n",
       "      <td>IN</td>\n",
       "      <td>2019-01-03T16:15:00+00:00</td>\n",
       "      <td>03-01-2019</td>\n",
       "      <td>T21:45:00+05:30</td>\n",
       "      <td>52.59</td>\n",
       "      <td>Âµg/mÂ³</td>\n",
       "      <td>...</td>\n",
       "      <td>POLYGON ((791451.4337743779 1431495.139632156,...</td>\n",
       "      <td>83516</td>\n",
       "      <td>83517</td>\n",
       "      <td>790696.557282</td>\n",
       "      <td>1.431092e+06</td>\n",
       "      <td>790796.557282</td>\n",
       "      <td>1.430992e+06</td>\n",
       "      <td>29.572025</td>\n",
       "      <td>28.227926</td>\n",
       "      <td>30.658538</td>\n",
       "    </tr>\n",
       "    <tr>\n",
       "      <th>2</th>\n",
       "      <td>13</td>\n",
       "      <td>5547</td>\n",
       "      <td>BWSSB Kadabesanahalli, Bengaluru - CPCB</td>\n",
       "      <td>Bengaluru</td>\n",
       "      <td>IN</td>\n",
       "      <td>2019-01-03T16:00:00+00:00</td>\n",
       "      <td>03-01-2019</td>\n",
       "      <td>T21:30:00+05:30</td>\n",
       "      <td>43.28</td>\n",
       "      <td>Âµg/mÂ³</td>\n",
       "      <td>...</td>\n",
       "      <td>POLYGON ((791451.4337743779 1431495.139632156,...</td>\n",
       "      <td>83516</td>\n",
       "      <td>83517</td>\n",
       "      <td>790696.557282</td>\n",
       "      <td>1.431092e+06</td>\n",
       "      <td>790796.557282</td>\n",
       "      <td>1.430992e+06</td>\n",
       "      <td>29.572025</td>\n",
       "      <td>28.227926</td>\n",
       "      <td>30.658538</td>\n",
       "    </tr>\n",
       "    <tr>\n",
       "      <th>3</th>\n",
       "      <td>23</td>\n",
       "      <td>5547</td>\n",
       "      <td>BWSSB Kadabesanahalli, Bengaluru - CPCB</td>\n",
       "      <td>Bengaluru</td>\n",
       "      <td>IN</td>\n",
       "      <td>2019-01-03T15:45:00+00:00</td>\n",
       "      <td>03-01-2019</td>\n",
       "      <td>T21:15:00+05:30</td>\n",
       "      <td>43.28</td>\n",
       "      <td>Âµg/mÂ³</td>\n",
       "      <td>...</td>\n",
       "      <td>POLYGON ((791451.4337743779 1431495.139632156,...</td>\n",
       "      <td>83516</td>\n",
       "      <td>83517</td>\n",
       "      <td>790696.557282</td>\n",
       "      <td>1.431092e+06</td>\n",
       "      <td>790796.557282</td>\n",
       "      <td>1.430992e+06</td>\n",
       "      <td>29.572025</td>\n",
       "      <td>28.227926</td>\n",
       "      <td>30.658538</td>\n",
       "    </tr>\n",
       "    <tr>\n",
       "      <th>4</th>\n",
       "      <td>24</td>\n",
       "      <td>5547</td>\n",
       "      <td>BWSSB Kadabesanahalli, Bengaluru - CPCB</td>\n",
       "      <td>Bengaluru</td>\n",
       "      <td>IN</td>\n",
       "      <td>2019-01-03T15:30:00+00:00</td>\n",
       "      <td>03-01-2019</td>\n",
       "      <td>T21:00:00+05:30</td>\n",
       "      <td>43.28</td>\n",
       "      <td>Âµg/mÂ³</td>\n",
       "      <td>...</td>\n",
       "      <td>POLYGON ((791451.4337743779 1431495.139632156,...</td>\n",
       "      <td>83516</td>\n",
       "      <td>83517</td>\n",
       "      <td>790696.557282</td>\n",
       "      <td>1.431092e+06</td>\n",
       "      <td>790796.557282</td>\n",
       "      <td>1.430992e+06</td>\n",
       "      <td>29.572025</td>\n",
       "      <td>28.227926</td>\n",
       "      <td>30.658538</td>\n",
       "    </tr>\n",
       "  </tbody>\n",
       "</table>\n",
       "<p>5 rows × 22 columns</p>\n",
       "</div>"
      ],
      "text/plain": [
       "   Unnamed: 0  locationId                                 location       city  \\\n",
       "0           0        5547  BWSSB Kadabesanahalli, Bengaluru - CPCB  Bengaluru   \n",
       "1           6        5547  BWSSB Kadabesanahalli, Bengaluru - CPCB  Bengaluru   \n",
       "2          13        5547  BWSSB Kadabesanahalli, Bengaluru - CPCB  Bengaluru   \n",
       "3          23        5547  BWSSB Kadabesanahalli, Bengaluru - CPCB  Bengaluru   \n",
       "4          24        5547  BWSSB Kadabesanahalli, Bengaluru - CPCB  Bengaluru   \n",
       "\n",
       "  country                        utc        date             time  value  \\\n",
       "0      IN  2019-01-03T16:30:00+00:00  03-01-2019  T22:00:00+05:30  64.22   \n",
       "1      IN  2019-01-03T16:15:00+00:00  03-01-2019  T21:45:00+05:30  52.59   \n",
       "2      IN  2019-01-03T16:00:00+00:00  03-01-2019  T21:30:00+05:30  43.28   \n",
       "3      IN  2019-01-03T15:45:00+00:00  03-01-2019  T21:15:00+05:30  43.28   \n",
       "4      IN  2019-01-03T15:30:00+00:00  03-01-2019  T21:00:00+05:30  43.28   \n",
       "\n",
       "      unit  ...                                           geometry  \\\n",
       "0  Âµg/mÂ³  ...  POLYGON ((791451.4337743779 1431495.139632156,...   \n",
       "1  Âµg/mÂ³  ...  POLYGON ((791451.4337743779 1431495.139632156,...   \n",
       "2  Âµg/mÂ³  ...  POLYGON ((791451.4337743779 1431495.139632156,...   \n",
       "3  Âµg/mÂ³  ...  POLYGON ((791451.4337743779 1431495.139632156,...   \n",
       "4  Âµg/mÂ³  ...  POLYGON ((791451.4337743779 1431495.139632156,...   \n",
       "\n",
       "   index_right     id           left           top          right  \\\n",
       "0        83516  83517  790696.557282  1.431092e+06  790796.557282   \n",
       "1        83516  83517  790696.557282  1.431092e+06  790796.557282   \n",
       "2        83516  83517  790696.557282  1.431092e+06  790796.557282   \n",
       "3        83516  83517  790696.557282  1.431092e+06  790796.557282   \n",
       "4        83516  83517  790696.557282  1.431092e+06  790796.557282   \n",
       "\n",
       "         bottom      _mean       _min       _max  \n",
       "0  1.430992e+06  29.572025  28.227926  30.658538  \n",
       "1  1.430992e+06  29.572025  28.227926  30.658538  \n",
       "2  1.430992e+06  29.572025  28.227926  30.658538  \n",
       "3  1.430992e+06  29.572025  28.227926  30.658538  \n",
       "4  1.430992e+06  29.572025  28.227926  30.658538  \n",
       "\n",
       "[5 rows x 22 columns]"
      ]
     },
     "execution_count": 4,
     "metadata": {},
     "output_type": "execute_result"
    }
   ],
   "source": [
    "df_concat_2019.head()"
   ]
  },
  {
   "cell_type": "markdown",
   "id": "beb06c80-89e9-4328-9eb0-097f5ad4c9f3",
   "metadata": {},
   "source": [
    "### Select specific column"
   ]
  },
  {
   "cell_type": "code",
   "execution_count": 5,
   "id": "fb48b4ec-23db-413c-8f3f-0f74a830c7e0",
   "metadata": {},
   "outputs": [],
   "source": [
    "df_concat_sel_2019 = df_concat_2019[['locationId','location','date','value', 'latitude','longitude','geometry','utc','_mean','_max','_min']]"
   ]
  },
  {
   "cell_type": "code",
   "execution_count": 6,
   "id": "2e008d65-da56-43bb-b86e-1ef67105cecd",
   "metadata": {},
   "outputs": [
    {
     "data": {
      "text/html": [
       "<div>\n",
       "<style scoped>\n",
       "    .dataframe tbody tr th:only-of-type {\n",
       "        vertical-align: middle;\n",
       "    }\n",
       "\n",
       "    .dataframe tbody tr th {\n",
       "        vertical-align: top;\n",
       "    }\n",
       "\n",
       "    .dataframe thead th {\n",
       "        text-align: right;\n",
       "    }\n",
       "</style>\n",
       "<table border=\"1\" class=\"dataframe\">\n",
       "  <thead>\n",
       "    <tr style=\"text-align: right;\">\n",
       "      <th></th>\n",
       "      <th>locationId</th>\n",
       "      <th>location</th>\n",
       "      <th>date</th>\n",
       "      <th>value</th>\n",
       "      <th>latitude</th>\n",
       "      <th>longitude</th>\n",
       "      <th>geometry</th>\n",
       "      <th>utc</th>\n",
       "      <th>_mean</th>\n",
       "      <th>_max</th>\n",
       "      <th>_min</th>\n",
       "    </tr>\n",
       "  </thead>\n",
       "  <tbody>\n",
       "    <tr>\n",
       "      <th>0</th>\n",
       "      <td>5547</td>\n",
       "      <td>BWSSB Kadabesanahalli, Bengaluru - CPCB</td>\n",
       "      <td>03-01-2019</td>\n",
       "      <td>64.22</td>\n",
       "      <td>12.935205</td>\n",
       "      <td>77.681449</td>\n",
       "      <td>POLYGON ((791451.4337743779 1431495.139632156,...</td>\n",
       "      <td>2019-01-03T16:30:00+00:00</td>\n",
       "      <td>29.572025</td>\n",
       "      <td>30.658538</td>\n",
       "      <td>28.227926</td>\n",
       "    </tr>\n",
       "    <tr>\n",
       "      <th>1</th>\n",
       "      <td>5547</td>\n",
       "      <td>BWSSB Kadabesanahalli, Bengaluru - CPCB</td>\n",
       "      <td>03-01-2019</td>\n",
       "      <td>52.59</td>\n",
       "      <td>12.935205</td>\n",
       "      <td>77.681449</td>\n",
       "      <td>POLYGON ((791451.4337743779 1431495.139632156,...</td>\n",
       "      <td>2019-01-03T16:15:00+00:00</td>\n",
       "      <td>29.572025</td>\n",
       "      <td>30.658538</td>\n",
       "      <td>28.227926</td>\n",
       "    </tr>\n",
       "    <tr>\n",
       "      <th>2</th>\n",
       "      <td>5547</td>\n",
       "      <td>BWSSB Kadabesanahalli, Bengaluru - CPCB</td>\n",
       "      <td>03-01-2019</td>\n",
       "      <td>43.28</td>\n",
       "      <td>12.935205</td>\n",
       "      <td>77.681449</td>\n",
       "      <td>POLYGON ((791451.4337743779 1431495.139632156,...</td>\n",
       "      <td>2019-01-03T16:00:00+00:00</td>\n",
       "      <td>29.572025</td>\n",
       "      <td>30.658538</td>\n",
       "      <td>28.227926</td>\n",
       "    </tr>\n",
       "    <tr>\n",
       "      <th>3</th>\n",
       "      <td>5547</td>\n",
       "      <td>BWSSB Kadabesanahalli, Bengaluru - CPCB</td>\n",
       "      <td>03-01-2019</td>\n",
       "      <td>43.28</td>\n",
       "      <td>12.935205</td>\n",
       "      <td>77.681449</td>\n",
       "      <td>POLYGON ((791451.4337743779 1431495.139632156,...</td>\n",
       "      <td>2019-01-03T15:45:00+00:00</td>\n",
       "      <td>29.572025</td>\n",
       "      <td>30.658538</td>\n",
       "      <td>28.227926</td>\n",
       "    </tr>\n",
       "    <tr>\n",
       "      <th>4</th>\n",
       "      <td>5547</td>\n",
       "      <td>BWSSB Kadabesanahalli, Bengaluru - CPCB</td>\n",
       "      <td>03-01-2019</td>\n",
       "      <td>43.28</td>\n",
       "      <td>12.935205</td>\n",
       "      <td>77.681449</td>\n",
       "      <td>POLYGON ((791451.4337743779 1431495.139632156,...</td>\n",
       "      <td>2019-01-03T15:30:00+00:00</td>\n",
       "      <td>29.572025</td>\n",
       "      <td>30.658538</td>\n",
       "      <td>28.227926</td>\n",
       "    </tr>\n",
       "  </tbody>\n",
       "</table>\n",
       "</div>"
      ],
      "text/plain": [
       "   locationId                                 location        date  value  \\\n",
       "0        5547  BWSSB Kadabesanahalli, Bengaluru - CPCB  03-01-2019  64.22   \n",
       "1        5547  BWSSB Kadabesanahalli, Bengaluru - CPCB  03-01-2019  52.59   \n",
       "2        5547  BWSSB Kadabesanahalli, Bengaluru - CPCB  03-01-2019  43.28   \n",
       "3        5547  BWSSB Kadabesanahalli, Bengaluru - CPCB  03-01-2019  43.28   \n",
       "4        5547  BWSSB Kadabesanahalli, Bengaluru - CPCB  03-01-2019  43.28   \n",
       "\n",
       "    latitude  longitude                                           geometry  \\\n",
       "0  12.935205  77.681449  POLYGON ((791451.4337743779 1431495.139632156,...   \n",
       "1  12.935205  77.681449  POLYGON ((791451.4337743779 1431495.139632156,...   \n",
       "2  12.935205  77.681449  POLYGON ((791451.4337743779 1431495.139632156,...   \n",
       "3  12.935205  77.681449  POLYGON ((791451.4337743779 1431495.139632156,...   \n",
       "4  12.935205  77.681449  POLYGON ((791451.4337743779 1431495.139632156,...   \n",
       "\n",
       "                         utc      _mean       _max       _min  \n",
       "0  2019-01-03T16:30:00+00:00  29.572025  30.658538  28.227926  \n",
       "1  2019-01-03T16:15:00+00:00  29.572025  30.658538  28.227926  \n",
       "2  2019-01-03T16:00:00+00:00  29.572025  30.658538  28.227926  \n",
       "3  2019-01-03T15:45:00+00:00  29.572025  30.658538  28.227926  \n",
       "4  2019-01-03T15:30:00+00:00  29.572025  30.658538  28.227926  "
      ]
     },
     "execution_count": 6,
     "metadata": {},
     "output_type": "execute_result"
    }
   ],
   "source": [
    "df_concat_sel_2019.head()"
   ]
  },
  {
   "cell_type": "markdown",
   "id": "dd4c741c-9a94-482d-ab19-439dbe33ef8d",
   "metadata": {},
   "source": [
    "### Change original date format to pandas date format"
   ]
  },
  {
   "cell_type": "code",
   "execution_count": 7,
   "id": "fe8408dd-7c32-44f1-aa56-3534ed266fd0",
   "metadata": {},
   "outputs": [
    {
     "name": "stderr",
     "output_type": "stream",
     "text": [
      "C:\\Users\\rajpa\\AppData\\Local\\Temp/ipykernel_19496/1185343944.py:1: SettingWithCopyWarning: \n",
      "A value is trying to be set on a copy of a slice from a DataFrame.\n",
      "Try using .loc[row_indexer,col_indexer] = value instead\n",
      "\n",
      "See the caveats in the documentation: https://pandas.pydata.org/pandas-docs/stable/user_guide/indexing.html#returning-a-view-versus-a-copy\n",
      "  df_concat_sel_2019['date_time'] = pd.to_datetime(df_concat_sel_2019['utc'])\n"
     ]
    },
    {
     "data": {
      "text/html": [
       "<div>\n",
       "<style scoped>\n",
       "    .dataframe tbody tr th:only-of-type {\n",
       "        vertical-align: middle;\n",
       "    }\n",
       "\n",
       "    .dataframe tbody tr th {\n",
       "        vertical-align: top;\n",
       "    }\n",
       "\n",
       "    .dataframe thead th {\n",
       "        text-align: right;\n",
       "    }\n",
       "</style>\n",
       "<table border=\"1\" class=\"dataframe\">\n",
       "  <thead>\n",
       "    <tr style=\"text-align: right;\">\n",
       "      <th></th>\n",
       "      <th>locationId</th>\n",
       "      <th>location</th>\n",
       "      <th>date</th>\n",
       "      <th>value</th>\n",
       "      <th>latitude</th>\n",
       "      <th>longitude</th>\n",
       "      <th>geometry</th>\n",
       "      <th>utc</th>\n",
       "      <th>_mean</th>\n",
       "      <th>_max</th>\n",
       "      <th>_min</th>\n",
       "      <th>date_time</th>\n",
       "    </tr>\n",
       "  </thead>\n",
       "  <tbody>\n",
       "    <tr>\n",
       "      <th>0</th>\n",
       "      <td>5547</td>\n",
       "      <td>BWSSB Kadabesanahalli, Bengaluru - CPCB</td>\n",
       "      <td>03-01-2019</td>\n",
       "      <td>64.22</td>\n",
       "      <td>12.935205</td>\n",
       "      <td>77.681449</td>\n",
       "      <td>POLYGON ((791451.4337743779 1431495.139632156,...</td>\n",
       "      <td>2019-01-03T16:30:00+00:00</td>\n",
       "      <td>29.572025</td>\n",
       "      <td>30.658538</td>\n",
       "      <td>28.227926</td>\n",
       "      <td>2019-01-03 16:30:00+00:00</td>\n",
       "    </tr>\n",
       "    <tr>\n",
       "      <th>1</th>\n",
       "      <td>5547</td>\n",
       "      <td>BWSSB Kadabesanahalli, Bengaluru - CPCB</td>\n",
       "      <td>03-01-2019</td>\n",
       "      <td>52.59</td>\n",
       "      <td>12.935205</td>\n",
       "      <td>77.681449</td>\n",
       "      <td>POLYGON ((791451.4337743779 1431495.139632156,...</td>\n",
       "      <td>2019-01-03T16:15:00+00:00</td>\n",
       "      <td>29.572025</td>\n",
       "      <td>30.658538</td>\n",
       "      <td>28.227926</td>\n",
       "      <td>2019-01-03 16:15:00+00:00</td>\n",
       "    </tr>\n",
       "    <tr>\n",
       "      <th>2</th>\n",
       "      <td>5547</td>\n",
       "      <td>BWSSB Kadabesanahalli, Bengaluru - CPCB</td>\n",
       "      <td>03-01-2019</td>\n",
       "      <td>43.28</td>\n",
       "      <td>12.935205</td>\n",
       "      <td>77.681449</td>\n",
       "      <td>POLYGON ((791451.4337743779 1431495.139632156,...</td>\n",
       "      <td>2019-01-03T16:00:00+00:00</td>\n",
       "      <td>29.572025</td>\n",
       "      <td>30.658538</td>\n",
       "      <td>28.227926</td>\n",
       "      <td>2019-01-03 16:00:00+00:00</td>\n",
       "    </tr>\n",
       "    <tr>\n",
       "      <th>3</th>\n",
       "      <td>5547</td>\n",
       "      <td>BWSSB Kadabesanahalli, Bengaluru - CPCB</td>\n",
       "      <td>03-01-2019</td>\n",
       "      <td>43.28</td>\n",
       "      <td>12.935205</td>\n",
       "      <td>77.681449</td>\n",
       "      <td>POLYGON ((791451.4337743779 1431495.139632156,...</td>\n",
       "      <td>2019-01-03T15:45:00+00:00</td>\n",
       "      <td>29.572025</td>\n",
       "      <td>30.658538</td>\n",
       "      <td>28.227926</td>\n",
       "      <td>2019-01-03 15:45:00+00:00</td>\n",
       "    </tr>\n",
       "    <tr>\n",
       "      <th>4</th>\n",
       "      <td>5547</td>\n",
       "      <td>BWSSB Kadabesanahalli, Bengaluru - CPCB</td>\n",
       "      <td>03-01-2019</td>\n",
       "      <td>43.28</td>\n",
       "      <td>12.935205</td>\n",
       "      <td>77.681449</td>\n",
       "      <td>POLYGON ((791451.4337743779 1431495.139632156,...</td>\n",
       "      <td>2019-01-03T15:30:00+00:00</td>\n",
       "      <td>29.572025</td>\n",
       "      <td>30.658538</td>\n",
       "      <td>28.227926</td>\n",
       "      <td>2019-01-03 15:30:00+00:00</td>\n",
       "    </tr>\n",
       "  </tbody>\n",
       "</table>\n",
       "</div>"
      ],
      "text/plain": [
       "   locationId                                 location        date  value  \\\n",
       "0        5547  BWSSB Kadabesanahalli, Bengaluru - CPCB  03-01-2019  64.22   \n",
       "1        5547  BWSSB Kadabesanahalli, Bengaluru - CPCB  03-01-2019  52.59   \n",
       "2        5547  BWSSB Kadabesanahalli, Bengaluru - CPCB  03-01-2019  43.28   \n",
       "3        5547  BWSSB Kadabesanahalli, Bengaluru - CPCB  03-01-2019  43.28   \n",
       "4        5547  BWSSB Kadabesanahalli, Bengaluru - CPCB  03-01-2019  43.28   \n",
       "\n",
       "    latitude  longitude                                           geometry  \\\n",
       "0  12.935205  77.681449  POLYGON ((791451.4337743779 1431495.139632156,...   \n",
       "1  12.935205  77.681449  POLYGON ((791451.4337743779 1431495.139632156,...   \n",
       "2  12.935205  77.681449  POLYGON ((791451.4337743779 1431495.139632156,...   \n",
       "3  12.935205  77.681449  POLYGON ((791451.4337743779 1431495.139632156,...   \n",
       "4  12.935205  77.681449  POLYGON ((791451.4337743779 1431495.139632156,...   \n",
       "\n",
       "                         utc      _mean       _max       _min  \\\n",
       "0  2019-01-03T16:30:00+00:00  29.572025  30.658538  28.227926   \n",
       "1  2019-01-03T16:15:00+00:00  29.572025  30.658538  28.227926   \n",
       "2  2019-01-03T16:00:00+00:00  29.572025  30.658538  28.227926   \n",
       "3  2019-01-03T15:45:00+00:00  29.572025  30.658538  28.227926   \n",
       "4  2019-01-03T15:30:00+00:00  29.572025  30.658538  28.227926   \n",
       "\n",
       "                  date_time  \n",
       "0 2019-01-03 16:30:00+00:00  \n",
       "1 2019-01-03 16:15:00+00:00  \n",
       "2 2019-01-03 16:00:00+00:00  \n",
       "3 2019-01-03 15:45:00+00:00  \n",
       "4 2019-01-03 15:30:00+00:00  "
      ]
     },
     "execution_count": 7,
     "metadata": {},
     "output_type": "execute_result"
    }
   ],
   "source": [
    "df_concat_sel_2019['date_time'] = pd.to_datetime(df_concat_sel_2019['utc'])\n",
    "df_concat_sel_2019.head()"
   ]
  },
  {
   "cell_type": "markdown",
   "id": "50d62afb-2961-4ed5-8cba-b54f551fb340",
   "metadata": {},
   "source": [
    "### Calculate avarage value of every month"
   ]
  },
  {
   "cell_type": "code",
   "execution_count": 32,
   "id": "6f6c349e-ffb6-4713-be1b-d835ad6c854d",
   "metadata": {},
   "outputs": [
    {
     "name": "stderr",
     "output_type": "stream",
     "text": [
      "C:\\Users\\rajpa\\AppData\\Local\\Temp/ipykernel_19496/2602586599.py:1: FutureWarning: Indexing with multiple keys (implicitly converted to a tuple of keys) will be deprecated, use a list instead.\n",
      "  df_concat_avarage_2019=df_concat_sel_2019.groupby(pd.PeriodIndex(df_concat_sel_2019['utc'],freq=\"M\"))['_mean','value'].mean()\n"
     ]
    }
   ],
   "source": [
    "df_concat_avarage_2019=df_concat_sel_2019.groupby(pd.PeriodIndex(df_concat_sel_2019['utc'],freq=\"M\"))['_mean','value'].mean()"
   ]
  },
  {
   "cell_type": "code",
   "execution_count": 33,
   "id": "954ba8ee-be5b-478e-97c4-6d317220b11b",
   "metadata": {},
   "outputs": [
    {
     "data": {
      "text/html": [
       "<div>\n",
       "<style scoped>\n",
       "    .dataframe tbody tr th:only-of-type {\n",
       "        vertical-align: middle;\n",
       "    }\n",
       "\n",
       "    .dataframe tbody tr th {\n",
       "        vertical-align: top;\n",
       "    }\n",
       "\n",
       "    .dataframe thead th {\n",
       "        text-align: right;\n",
       "    }\n",
       "</style>\n",
       "<table border=\"1\" class=\"dataframe\">\n",
       "  <thead>\n",
       "    <tr style=\"text-align: right;\">\n",
       "      <th></th>\n",
       "      <th>_mean</th>\n",
       "      <th>value</th>\n",
       "    </tr>\n",
       "    <tr>\n",
       "      <th>utc</th>\n",
       "      <th></th>\n",
       "      <th></th>\n",
       "    </tr>\n",
       "  </thead>\n",
       "  <tbody>\n",
       "    <tr>\n",
       "      <th>2019-01</th>\n",
       "      <td>29.179880</td>\n",
       "      <td>60.809004</td>\n",
       "    </tr>\n",
       "    <tr>\n",
       "      <th>2019-02</th>\n",
       "      <td>36.287031</td>\n",
       "      <td>48.680424</td>\n",
       "    </tr>\n",
       "    <tr>\n",
       "      <th>2019-04</th>\n",
       "      <td>36.671707</td>\n",
       "      <td>60.112331</td>\n",
       "    </tr>\n",
       "    <tr>\n",
       "      <th>2019-05</th>\n",
       "      <td>29.614164</td>\n",
       "      <td>44.968861</td>\n",
       "    </tr>\n",
       "  </tbody>\n",
       "</table>\n",
       "</div>"
      ],
      "text/plain": [
       "             _mean      value\n",
       "utc                          \n",
       "2019-01  29.179880  60.809004\n",
       "2019-02  36.287031  48.680424\n",
       "2019-04  36.671707  60.112331\n",
       "2019-05  29.614164  44.968861"
      ]
     },
     "execution_count": 33,
     "metadata": {},
     "output_type": "execute_result"
    }
   ],
   "source": [
    "df_concat_avarage_2019.head()"
   ]
  },
  {
   "cell_type": "markdown",
   "id": "bb845e84-7746-412f-bce5-d2b3a62ef6b3",
   "metadata": {},
   "source": [
    "### Chnage column name for easily identify value in plot."
   ]
  },
  {
   "cell_type": "code",
   "execution_count": 35,
   "id": "f09ace80-20d3-417c-a632-027ff54cf08c",
   "metadata": {},
   "outputs": [],
   "source": [
    "df_concat_avarage_2019 = df_concat_avarage_2019.rename(columns={\"value\": \"pm25\", \"_mean\": \"lst_mean\"})"
   ]
  },
  {
   "cell_type": "markdown",
   "id": "13f5c2c4-3152-4ea5-a01c-11d0757cdea7",
   "metadata": {},
   "source": [
    "### Plot the values of LST and PM2.5 for 2019 "
   ]
  },
  {
   "cell_type": "code",
   "execution_count": 47,
   "id": "fb1fab53-031b-41d6-8551-251f08185984",
   "metadata": {},
   "outputs": [
    {
     "data": {
      "text/plain": [
       "<AxesSubplot:xlabel='utc'>"
      ]
     },
     "execution_count": 47,
     "metadata": {},
     "output_type": "execute_result"
    },
    {
     "data": {
      "image/png": "[encoded data removed]",
      "text/plain": [
       "<Figure size 720x504 with 1 Axes>"
      ]
     },
     "metadata": {
      "needs_background": "light"
     },
     "output_type": "display_data"
    }
   ],
   "source": [
    "\n",
    "df_concat_avarage_2019.plot.line(figsize=(10,7))"
   ]
  },
  {
   "cell_type": "code",
   "execution_count": 36,
   "id": "f616c535-bbbb-4ef6-ab04-7df842bb80ae",
   "metadata": {},
   "outputs": [
    {
     "data": {
      "image/png": "[encoded data removed]",
      "text/plain": [
       "<Figure size 720x504 with 1 Axes>"
      ]
     },
     "metadata": {
      "needs_background": "light"
     },
     "output_type": "display_data"
    }
   ],
   "source": [
    "ax=df_concat_avarage_2019.plot.bar(figsize=(10,7))"
   ]
  },
  {
   "cell_type": "markdown",
   "id": "edc68920-1495-4f81-8e7b-607e74a7333e",
   "metadata": {},
   "source": [
    "### Plot process for 2020"
   ]
  },
  {
   "cell_type": "code",
   "execution_count": 38,
   "id": "3bcbb913-eea9-40ea-b3ec-195eb6f96079",
   "metadata": {},
   "outputs": [],
   "source": [
    "df1 = pd.read_csv(\"C:/Users/rajpa/Desktop/final_JOIN/January2020_spatial_join.csv\")\n",
    "df2 = pd.read_csv(\"C:/Users/rajpa/Desktop/final_JOIN/February2020_spatial_join.csv\")\n",
    "df3 = pd.read_csv(\"C:/Users/rajpa/Desktop/final_JOIN/March2020_spatial_join.csv\")\n",
    "df4 = pd.read_csv(\"C:/Users/rajpa/Desktop/final_JOIN/May2020_spatial_join.csv\")\n",
    "df5 = pd.read_csv(\"C:/Users/rajpa/Desktop/final_JOIN/July2020_spatial_join.csv\")"
   ]
  },
  {
   "cell_type": "code",
   "execution_count": 39,
   "id": "27fea8d5-d3eb-4a95-8e1d-94390bcaffb7",
   "metadata": {},
   "outputs": [],
   "source": [
    "df_concat_2020 = pd.concat([df1, df2,df3,df4,df5])"
   ]
  },
  {
   "cell_type": "code",
   "execution_count": 48,
   "id": "61ba4ff8-db8a-4919-9fe6-91453d76ad62",
   "metadata": {},
   "outputs": [],
   "source": [
    "df_concat_sel_2020 = df_concat_2020[['locationId','location','date','value', 'latitude','longitude','geometry','utc','_mean']]"
   ]
  },
  {
   "cell_type": "code",
   "execution_count": 49,
   "id": "2252e96f-7d82-4895-bca7-982931933713",
   "metadata": {},
   "outputs": [
    {
     "data": {
      "text/html": [
       "<div>\n",
       "<style scoped>\n",
       "    .dataframe tbody tr th:only-of-type {\n",
       "        vertical-align: middle;\n",
       "    }\n",
       "\n",
       "    .dataframe tbody tr th {\n",
       "        vertical-align: top;\n",
       "    }\n",
       "\n",
       "    .dataframe thead th {\n",
       "        text-align: right;\n",
       "    }\n",
       "</style>\n",
       "<table border=\"1\" class=\"dataframe\">\n",
       "  <thead>\n",
       "    <tr style=\"text-align: right;\">\n",
       "      <th></th>\n",
       "      <th>locationId</th>\n",
       "      <th>location</th>\n",
       "      <th>date</th>\n",
       "      <th>value</th>\n",
       "      <th>latitude</th>\n",
       "      <th>longitude</th>\n",
       "      <th>geometry</th>\n",
       "      <th>utc</th>\n",
       "      <th>_mean</th>\n",
       "    </tr>\n",
       "  </thead>\n",
       "  <tbody>\n",
       "    <tr>\n",
       "      <th>0</th>\n",
       "      <td>6974</td>\n",
       "      <td>Bapuji Nagar, Bengaluru - KSPCB</td>\n",
       "      <td>01-01-2020</td>\n",
       "      <td>26.0</td>\n",
       "      <td>12.951913</td>\n",
       "      <td>77.539784</td>\n",
       "      <td>POLYGON ((776052.2971175441 1433187.477062237,...</td>\n",
       "      <td>2020-01-01T00:00:00+00:00</td>\n",
       "      <td>32.074387</td>\n",
       "    </tr>\n",
       "    <tr>\n",
       "      <th>1</th>\n",
       "      <td>6974</td>\n",
       "      <td>Bapuji Nagar, Bengaluru - KSPCB</td>\n",
       "      <td>01-01-2020</td>\n",
       "      <td>26.0</td>\n",
       "      <td>12.951913</td>\n",
       "      <td>77.539784</td>\n",
       "      <td>POLYGON ((776052.2971175441 1433187.477062237,...</td>\n",
       "      <td>2020-01-01T00:00:00+00:00</td>\n",
       "      <td>31.093161</td>\n",
       "    </tr>\n",
       "    <tr>\n",
       "      <th>2</th>\n",
       "      <td>6974</td>\n",
       "      <td>Bapuji Nagar, Bengaluru - KSPCB</td>\n",
       "      <td>01-01-2020</td>\n",
       "      <td>26.0</td>\n",
       "      <td>12.951913</td>\n",
       "      <td>77.539784</td>\n",
       "      <td>POLYGON ((776052.2971175441 1433187.477062237,...</td>\n",
       "      <td>2020-01-01T00:00:00+00:00</td>\n",
       "      <td>32.169673</td>\n",
       "    </tr>\n",
       "    <tr>\n",
       "      <th>3</th>\n",
       "      <td>6974</td>\n",
       "      <td>Bapuji Nagar, Bengaluru - KSPCB</td>\n",
       "      <td>01-01-2020</td>\n",
       "      <td>26.0</td>\n",
       "      <td>12.951913</td>\n",
       "      <td>77.539784</td>\n",
       "      <td>POLYGON ((776052.2971175441 1433187.477062237,...</td>\n",
       "      <td>2020-01-01T00:00:00+00:00</td>\n",
       "      <td>31.678816</td>\n",
       "    </tr>\n",
       "    <tr>\n",
       "      <th>4</th>\n",
       "      <td>6974</td>\n",
       "      <td>Bapuji Nagar, Bengaluru - KSPCB</td>\n",
       "      <td>01-01-2020</td>\n",
       "      <td>26.0</td>\n",
       "      <td>12.951913</td>\n",
       "      <td>77.539784</td>\n",
       "      <td>POLYGON ((776052.2971175441 1433187.477062237,...</td>\n",
       "      <td>2020-01-01T00:00:00+00:00</td>\n",
       "      <td>32.164748</td>\n",
       "    </tr>\n",
       "  </tbody>\n",
       "</table>\n",
       "</div>"
      ],
      "text/plain": [
       "   locationId                         location        date  value   latitude  \\\n",
       "0        6974  Bapuji Nagar, Bengaluru - KSPCB  01-01-2020   26.0  12.951913   \n",
       "1        6974  Bapuji Nagar, Bengaluru - KSPCB  01-01-2020   26.0  12.951913   \n",
       "2        6974  Bapuji Nagar, Bengaluru - KSPCB  01-01-2020   26.0  12.951913   \n",
       "3        6974  Bapuji Nagar, Bengaluru - KSPCB  01-01-2020   26.0  12.951913   \n",
       "4        6974  Bapuji Nagar, Bengaluru - KSPCB  01-01-2020   26.0  12.951913   \n",
       "\n",
       "   longitude                                           geometry  \\\n",
       "0  77.539784  POLYGON ((776052.2971175441 1433187.477062237,...   \n",
       "1  77.539784  POLYGON ((776052.2971175441 1433187.477062237,...   \n",
       "2  77.539784  POLYGON ((776052.2971175441 1433187.477062237,...   \n",
       "3  77.539784  POLYGON ((776052.2971175441 1433187.477062237,...   \n",
       "4  77.539784  POLYGON ((776052.2971175441 1433187.477062237,...   \n",
       "\n",
       "                         utc      _mean  \n",
       "0  2020-01-01T00:00:00+00:00  32.074387  \n",
       "1  2020-01-01T00:00:00+00:00  31.093161  \n",
       "2  2020-01-01T00:00:00+00:00  32.169673  \n",
       "3  2020-01-01T00:00:00+00:00  31.678816  \n",
       "4  2020-01-01T00:00:00+00:00  32.164748  "
      ]
     },
     "execution_count": 49,
     "metadata": {},
     "output_type": "execute_result"
    }
   ],
   "source": [
    "df_concat_sel_2020.head()"
   ]
  },
  {
   "cell_type": "code",
   "execution_count": 42,
   "id": "0f73b405-bbc1-4d8d-ac1f-ec8128012dda",
   "metadata": {},
   "outputs": [
    {
     "data": {
      "text/plain": [
       "dtype('O')"
      ]
     },
     "execution_count": 42,
     "metadata": {},
     "output_type": "execute_result"
    }
   ],
   "source": [
    "df_concat_sel_2020['utc'].dtype"
   ]
  },
  {
   "cell_type": "code",
   "execution_count": 56,
   "id": "a70ed33c-a06b-4a3e-9ba6-a754cca610e4",
   "metadata": {},
   "outputs": [
    {
     "name": "stderr",
     "output_type": "stream",
     "text": [
      "C:\\Users\\rajpa\\AppData\\Local\\Temp/ipykernel_19496/2550446862.py:1: SettingWithCopyWarning: \n",
      "A value is trying to be set on a copy of a slice from a DataFrame.\n",
      "Try using .loc[row_indexer,col_indexer] = value instead\n",
      "\n",
      "See the caveats in the documentation: https://pandas.pydata.org/pandas-docs/stable/user_guide/indexing.html#returning-a-view-versus-a-copy\n",
      "  df_concat_sel_2020['date_time'] = pd.to_datetime(df_concat_sel_2020['utc'])\n"
     ]
    },
    {
     "data": {
      "text/html": [
       "<div>\n",
       "<style scoped>\n",
       "    .dataframe tbody tr th:only-of-type {\n",
       "        vertical-align: middle;\n",
       "    }\n",
       "\n",
       "    .dataframe tbody tr th {\n",
       "        vertical-align: top;\n",
       "    }\n",
       "\n",
       "    .dataframe thead th {\n",
       "        text-align: right;\n",
       "    }\n",
       "</style>\n",
       "<table border=\"1\" class=\"dataframe\">\n",
       "  <thead>\n",
       "    <tr style=\"text-align: right;\">\n",
       "      <th></th>\n",
       "      <th>locationId</th>\n",
       "      <th>location</th>\n",
       "      <th>date</th>\n",
       "      <th>value</th>\n",
       "      <th>latitude</th>\n",
       "      <th>longitude</th>\n",
       "      <th>geometry</th>\n",
       "      <th>utc</th>\n",
       "      <th>_mean</th>\n",
       "      <th>date_time</th>\n",
       "    </tr>\n",
       "  </thead>\n",
       "  <tbody>\n",
       "    <tr>\n",
       "      <th>0</th>\n",
       "      <td>6974</td>\n",
       "      <td>Bapuji Nagar, Bengaluru - KSPCB</td>\n",
       "      <td>01-01-2020</td>\n",
       "      <td>26.0</td>\n",
       "      <td>12.951913</td>\n",
       "      <td>77.539784</td>\n",
       "      <td>POLYGON ((776052.2971175441 1433187.477062237,...</td>\n",
       "      <td>2020-01-01T00:00:00+00:00</td>\n",
       "      <td>32.074387</td>\n",
       "      <td>2020-01-01 00:00:00+00:00</td>\n",
       "    </tr>\n",
       "    <tr>\n",
       "      <th>1</th>\n",
       "      <td>6974</td>\n",
       "      <td>Bapuji Nagar, Bengaluru - KSPCB</td>\n",
       "      <td>01-01-2020</td>\n",
       "      <td>26.0</td>\n",
       "      <td>12.951913</td>\n",
       "      <td>77.539784</td>\n",
       "      <td>POLYGON ((776052.2971175441 1433187.477062237,...</td>\n",
       "      <td>2020-01-01T00:00:00+00:00</td>\n",
       "      <td>31.093161</td>\n",
       "      <td>2020-01-01 00:00:00+00:00</td>\n",
       "    </tr>\n",
       "    <tr>\n",
       "      <th>2</th>\n",
       "      <td>6974</td>\n",
       "      <td>Bapuji Nagar, Bengaluru - KSPCB</td>\n",
       "      <td>01-01-2020</td>\n",
       "      <td>26.0</td>\n",
       "      <td>12.951913</td>\n",
       "      <td>77.539784</td>\n",
       "      <td>POLYGON ((776052.2971175441 1433187.477062237,...</td>\n",
       "      <td>2020-01-01T00:00:00+00:00</td>\n",
       "      <td>32.169673</td>\n",
       "      <td>2020-01-01 00:00:00+00:00</td>\n",
       "    </tr>\n",
       "    <tr>\n",
       "      <th>3</th>\n",
       "      <td>6974</td>\n",
       "      <td>Bapuji Nagar, Bengaluru - KSPCB</td>\n",
       "      <td>01-01-2020</td>\n",
       "      <td>26.0</td>\n",
       "      <td>12.951913</td>\n",
       "      <td>77.539784</td>\n",
       "      <td>POLYGON ((776052.2971175441 1433187.477062237,...</td>\n",
       "      <td>2020-01-01T00:00:00+00:00</td>\n",
       "      <td>31.678816</td>\n",
       "      <td>2020-01-01 00:00:00+00:00</td>\n",
       "    </tr>\n",
       "    <tr>\n",
       "      <th>4</th>\n",
       "      <td>6974</td>\n",
       "      <td>Bapuji Nagar, Bengaluru - KSPCB</td>\n",
       "      <td>01-01-2020</td>\n",
       "      <td>26.0</td>\n",
       "      <td>12.951913</td>\n",
       "      <td>77.539784</td>\n",
       "      <td>POLYGON ((776052.2971175441 1433187.477062237,...</td>\n",
       "      <td>2020-01-01T00:00:00+00:00</td>\n",
       "      <td>32.164748</td>\n",
       "      <td>2020-01-01 00:00:00+00:00</td>\n",
       "    </tr>\n",
       "  </tbody>\n",
       "</table>\n",
       "</div>"
      ],
      "text/plain": [
       "   locationId                         location        date  value   latitude  \\\n",
       "0        6974  Bapuji Nagar, Bengaluru - KSPCB  01-01-2020   26.0  12.951913   \n",
       "1        6974  Bapuji Nagar, Bengaluru - KSPCB  01-01-2020   26.0  12.951913   \n",
       "2        6974  Bapuji Nagar, Bengaluru - KSPCB  01-01-2020   26.0  12.951913   \n",
       "3        6974  Bapuji Nagar, Bengaluru - KSPCB  01-01-2020   26.0  12.951913   \n",
       "4        6974  Bapuji Nagar, Bengaluru - KSPCB  01-01-2020   26.0  12.951913   \n",
       "\n",
       "   longitude                                           geometry  \\\n",
       "0  77.539784  POLYGON ((776052.2971175441 1433187.477062237,...   \n",
       "1  77.539784  POLYGON ((776052.2971175441 1433187.477062237,...   \n",
       "2  77.539784  POLYGON ((776052.2971175441 1433187.477062237,...   \n",
       "3  77.539784  POLYGON ((776052.2971175441 1433187.477062237,...   \n",
       "4  77.539784  POLYGON ((776052.2971175441 1433187.477062237,...   \n",
       "\n",
       "                         utc      _mean                 date_time  \n",
       "0  2020-01-01T00:00:00+00:00  32.074387 2020-01-01 00:00:00+00:00  \n",
       "1  2020-01-01T00:00:00+00:00  31.093161 2020-01-01 00:00:00+00:00  \n",
       "2  2020-01-01T00:00:00+00:00  32.169673 2020-01-01 00:00:00+00:00  \n",
       "3  2020-01-01T00:00:00+00:00  31.678816 2020-01-01 00:00:00+00:00  \n",
       "4  2020-01-01T00:00:00+00:00  32.164748 2020-01-01 00:00:00+00:00  "
      ]
     },
     "execution_count": 56,
     "metadata": {},
     "output_type": "execute_result"
    }
   ],
   "source": [
    "df_concat_sel_2020['date_time'] = pd.to_datetime(df_concat_sel_2020['utc'])\n",
    "df_concat_sel_2020.head()\n"
   ]
  },
  {
   "cell_type": "code",
   "execution_count": 57,
   "id": "cd553ade-2c66-4962-ba74-c49e4abd9e14",
   "metadata": {},
   "outputs": [
    {
     "name": "stderr",
     "output_type": "stream",
     "text": [
      "C:\\Users\\rajpa\\AppData\\Local\\Temp/ipykernel_19496/1384476408.py:1: FutureWarning: Indexing with multiple keys (implicitly converted to a tuple of keys) will be deprecated, use a list instead.\n",
      "  df_concat_avarage_2020=df_concat_sel_2020.groupby(pd.PeriodIndex(df_concat_sel_2020['utc'],freq=\"M\"))['_mean','value',].mean()\n"
     ]
    }
   ],
   "source": [
    "df_concat_avarage_2020=df_concat_sel_2020.groupby(pd.PeriodIndex(df_concat_sel_2020['utc'],freq=\"M\"))['_mean','value',].mean()"
   ]
  },
  {
   "cell_type": "code",
   "execution_count": 58,
   "id": "697c919f-76e0-4c9b-8d0b-6bfc940270ac",
   "metadata": {},
   "outputs": [
    {
     "data": {
      "text/html": [
       "<div>\n",
       "<style scoped>\n",
       "    .dataframe tbody tr th:only-of-type {\n",
       "        vertical-align: middle;\n",
       "    }\n",
       "\n",
       "    .dataframe tbody tr th {\n",
       "        vertical-align: top;\n",
       "    }\n",
       "\n",
       "    .dataframe thead th {\n",
       "        text-align: right;\n",
       "    }\n",
       "</style>\n",
       "<table border=\"1\" class=\"dataframe\">\n",
       "  <thead>\n",
       "    <tr style=\"text-align: right;\">\n",
       "      <th></th>\n",
       "      <th>_mean</th>\n",
       "      <th>value</th>\n",
       "    </tr>\n",
       "    <tr>\n",
       "      <th>utc</th>\n",
       "      <th></th>\n",
       "      <th></th>\n",
       "    </tr>\n",
       "  </thead>\n",
       "  <tbody>\n",
       "    <tr>\n",
       "      <th>2020-01</th>\n",
       "      <td>30.740916</td>\n",
       "      <td>42.909082</td>\n",
       "    </tr>\n",
       "    <tr>\n",
       "      <th>2020-02</th>\n",
       "      <td>29.577765</td>\n",
       "      <td>41.868105</td>\n",
       "    </tr>\n",
       "    <tr>\n",
       "      <th>2020-03</th>\n",
       "      <td>34.813748</td>\n",
       "      <td>39.390748</td>\n",
       "    </tr>\n",
       "    <tr>\n",
       "      <th>2020-05</th>\n",
       "      <td>27.931337</td>\n",
       "      <td>23.103395</td>\n",
       "    </tr>\n",
       "    <tr>\n",
       "      <th>2020-07</th>\n",
       "      <td>24.692490</td>\n",
       "      <td>12.049982</td>\n",
       "    </tr>\n",
       "  </tbody>\n",
       "</table>\n",
       "</div>"
      ],
      "text/plain": [
       "             _mean      value\n",
       "utc                          \n",
       "2020-01  30.740916  42.909082\n",
       "2020-02  29.577765  41.868105\n",
       "2020-03  34.813748  39.390748\n",
       "2020-05  27.931337  23.103395\n",
       "2020-07  24.692490  12.049982"
      ]
     },
     "execution_count": 58,
     "metadata": {},
     "output_type": "execute_result"
    }
   ],
   "source": [
    "df_concat_avarage_2020\n"
   ]
  },
  {
   "cell_type": "code",
   "execution_count": 59,
   "id": "4169a4dc-41f0-4207-8289-07299c7831ec",
   "metadata": {},
   "outputs": [],
   "source": [
    "df_concat_avarage_2020 = df_concat_avarage_2020.rename(columns={\"value\": \"pm25\", \"_mean\": \"lst_mean\",\"_max\": \"lst_max\",\"_min\": \"lst_min\"})"
   ]
  },
  {
   "cell_type": "code",
   "execution_count": 61,
   "id": "12f9ed63-eb5d-4adb-9f72-cd4fe1288d5c",
   "metadata": {},
   "outputs": [
    {
     "data": {
      "image/png": "[encoded data removed]",
      "text/plain": [
       "<Figure size 720x504 with 1 Axes>"
      ]
     },
     "metadata": {
      "needs_background": "light"
     },
     "output_type": "display_data"
    }
   ],
   "source": [
    "ax = df_concat_avarage_2020.plot.bar(figsize=(10,7))"
   ]
  },
  {
   "cell_type": "markdown",
   "id": "e614bac2-0d53-4f93-9e60-564596004d5c",
   "metadata": {},
   "source": [
    "### Plot process for 2021"
   ]
  },
  {
   "cell_type": "code",
   "execution_count": 62,
   "id": "d90ce73f-54d5-4e9d-a210-2ab287bedf16",
   "metadata": {},
   "outputs": [],
   "source": [
    "\n",
    "df1 = pd.read_csv(\"C:/Users/rajpa/Desktop/final_JOIN/February2021_spatial_join.csv\")\n",
    "df2 = pd.read_csv(\"C:/Users/rajpa/Desktop/final_JOIN/March2021_spatial_join.csv\")\n",
    "df3 = pd.read_csv(\"C:/Users/rajpa/Desktop/final_JOIN/April2021_spatial_join.csv\")"
   ]
  },
  {
   "cell_type": "code",
   "execution_count": 63,
   "id": "05524dd4-ef30-4e0f-9528-80395bc3bd35",
   "metadata": {},
   "outputs": [],
   "source": [
    "df_concat_2021 = pd.concat([df1, df2,df3])"
   ]
  },
  {
   "cell_type": "code",
   "execution_count": 73,
   "id": "28c75c8d-0e51-4f37-b0c2-3d4dc7a2e996",
   "metadata": {},
   "outputs": [],
   "source": [
    "df_concat_sel_2021 = df_concat_2021[['locationId','location','utc','value', 'latitude','longitude','geometry','_mean']]"
   ]
  },
  {
   "cell_type": "code",
   "execution_count": 74,
   "id": "d6e5bad9-7d1d-41bf-ae75-ab70e91ab1b4",
   "metadata": {},
   "outputs": [
    {
     "name": "stderr",
     "output_type": "stream",
     "text": [
      "C:\\Users\\rajpa\\AppData\\Local\\Temp/ipykernel_19496/811175306.py:1: SettingWithCopyWarning: \n",
      "A value is trying to be set on a copy of a slice from a DataFrame.\n",
      "Try using .loc[row_indexer,col_indexer] = value instead\n",
      "\n",
      "See the caveats in the documentation: https://pandas.pydata.org/pandas-docs/stable/user_guide/indexing.html#returning-a-view-versus-a-copy\n",
      "  df_concat_sel_2021['date_time'] = pd.to_datetime(df_concat_sel_2021['utc'])\n"
     ]
    },
    {
     "data": {
      "text/html": [
       "<div>\n",
       "<style scoped>\n",
       "    .dataframe tbody tr th:only-of-type {\n",
       "        vertical-align: middle;\n",
       "    }\n",
       "\n",
       "    .dataframe tbody tr th {\n",
       "        vertical-align: top;\n",
       "    }\n",
       "\n",
       "    .dataframe thead th {\n",
       "        text-align: right;\n",
       "    }\n",
       "</style>\n",
       "<table border=\"1\" class=\"dataframe\">\n",
       "  <thead>\n",
       "    <tr style=\"text-align: right;\">\n",
       "      <th></th>\n",
       "      <th>locationId</th>\n",
       "      <th>location</th>\n",
       "      <th>utc</th>\n",
       "      <th>value</th>\n",
       "      <th>latitude</th>\n",
       "      <th>longitude</th>\n",
       "      <th>geometry</th>\n",
       "      <th>_mean</th>\n",
       "      <th>date_time</th>\n",
       "    </tr>\n",
       "  </thead>\n",
       "  <tbody>\n",
       "    <tr>\n",
       "      <th>0</th>\n",
       "      <td>6973</td>\n",
       "      <td>Jayanagar 5th Block, Bengaluru - KSPCB</td>\n",
       "      <td>2021-02-05T15:45:00+00:00</td>\n",
       "      <td>62.0</td>\n",
       "      <td>12.920984</td>\n",
       "      <td>77.584908</td>\n",
       "      <td>POLYGON ((780985.5815970467 1429813.152377191,...</td>\n",
       "      <td>29.766344</td>\n",
       "      <td>2021-02-05 15:45:00+00:00</td>\n",
       "    </tr>\n",
       "    <tr>\n",
       "      <th>1</th>\n",
       "      <td>6973</td>\n",
       "      <td>Jayanagar 5th Block, Bengaluru - KSPCB</td>\n",
       "      <td>2021-02-05T17:00:00+00:00</td>\n",
       "      <td>64.0</td>\n",
       "      <td>12.920984</td>\n",
       "      <td>77.584908</td>\n",
       "      <td>POLYGON ((780985.5815970467 1429813.152377191,...</td>\n",
       "      <td>29.766344</td>\n",
       "      <td>2021-02-05 17:00:00+00:00</td>\n",
       "    </tr>\n",
       "    <tr>\n",
       "      <th>2</th>\n",
       "      <td>6973</td>\n",
       "      <td>Jayanagar 5th Block, Bengaluru - KSPCB</td>\n",
       "      <td>2021-02-05T18:15:00+00:00</td>\n",
       "      <td>53.0</td>\n",
       "      <td>12.920984</td>\n",
       "      <td>77.584908</td>\n",
       "      <td>POLYGON ((780985.5815970467 1429813.152377191,...</td>\n",
       "      <td>29.766344</td>\n",
       "      <td>2021-02-05 18:15:00+00:00</td>\n",
       "    </tr>\n",
       "    <tr>\n",
       "      <th>3</th>\n",
       "      <td>6973</td>\n",
       "      <td>Jayanagar 5th Block, Bengaluru - KSPCB</td>\n",
       "      <td>2021-02-05T18:30:00+00:00</td>\n",
       "      <td>53.0</td>\n",
       "      <td>12.920984</td>\n",
       "      <td>77.584908</td>\n",
       "      <td>POLYGON ((780985.5815970467 1429813.152377191,...</td>\n",
       "      <td>29.766344</td>\n",
       "      <td>2021-02-05 18:30:00+00:00</td>\n",
       "    </tr>\n",
       "    <tr>\n",
       "      <th>4</th>\n",
       "      <td>6973</td>\n",
       "      <td>Jayanagar 5th Block, Bengaluru - KSPCB</td>\n",
       "      <td>2021-02-05T20:30:00+00:00</td>\n",
       "      <td>52.0</td>\n",
       "      <td>12.920984</td>\n",
       "      <td>77.584908</td>\n",
       "      <td>POLYGON ((780985.5815970467 1429813.152377191,...</td>\n",
       "      <td>29.766344</td>\n",
       "      <td>2021-02-05 20:30:00+00:00</td>\n",
       "    </tr>\n",
       "  </tbody>\n",
       "</table>\n",
       "</div>"
      ],
      "text/plain": [
       "   locationId                                location  \\\n",
       "0        6973  Jayanagar 5th Block, Bengaluru - KSPCB   \n",
       "1        6973  Jayanagar 5th Block, Bengaluru - KSPCB   \n",
       "2        6973  Jayanagar 5th Block, Bengaluru - KSPCB   \n",
       "3        6973  Jayanagar 5th Block, Bengaluru - KSPCB   \n",
       "4        6973  Jayanagar 5th Block, Bengaluru - KSPCB   \n",
       "\n",
       "                         utc  value   latitude  longitude  \\\n",
       "0  2021-02-05T15:45:00+00:00   62.0  12.920984  77.584908   \n",
       "1  2021-02-05T17:00:00+00:00   64.0  12.920984  77.584908   \n",
       "2  2021-02-05T18:15:00+00:00   53.0  12.920984  77.584908   \n",
       "3  2021-02-05T18:30:00+00:00   53.0  12.920984  77.584908   \n",
       "4  2021-02-05T20:30:00+00:00   52.0  12.920984  77.584908   \n",
       "\n",
       "                                            geometry      _mean  \\\n",
       "0  POLYGON ((780985.5815970467 1429813.152377191,...  29.766344   \n",
       "1  POLYGON ((780985.5815970467 1429813.152377191,...  29.766344   \n",
       "2  POLYGON ((780985.5815970467 1429813.152377191,...  29.766344   \n",
       "3  POLYGON ((780985.5815970467 1429813.152377191,...  29.766344   \n",
       "4  POLYGON ((780985.5815970467 1429813.152377191,...  29.766344   \n",
       "\n",
       "                  date_time  \n",
       "0 2021-02-05 15:45:00+00:00  \n",
       "1 2021-02-05 17:00:00+00:00  \n",
       "2 2021-02-05 18:15:00+00:00  \n",
       "3 2021-02-05 18:30:00+00:00  \n",
       "4 2021-02-05 20:30:00+00:00  "
      ]
     },
     "execution_count": 74,
     "metadata": {},
     "output_type": "execute_result"
    }
   ],
   "source": [
    "df_concat_sel_2021['date_time'] = pd.to_datetime(df_concat_sel_2021['utc'])\n",
    "df_concat_sel_2021.head()"
   ]
  },
  {
   "cell_type": "code",
   "execution_count": null,
   "id": "d25c8f6f-5aa6-49c4-9f84-4d02d7b99682",
   "metadata": {},
   "outputs": [],
   "source": []
  },
  {
   "cell_type": "code",
   "execution_count": 75,
   "id": "262e51ee-b90b-4e73-a58f-de58561609b8",
   "metadata": {},
   "outputs": [
    {
     "name": "stderr",
     "output_type": "stream",
     "text": [
      "C:\\Users\\rajpa\\AppData\\Local\\Temp/ipykernel_19496/1261863353.py:1: FutureWarning: Indexing with multiple keys (implicitly converted to a tuple of keys) will be deprecated, use a list instead.\n",
      "  df_concat_avarage_2021=df_concat_sel_2021.groupby(pd.PeriodIndex(df_concat_sel_2021['utc'],freq=\"M\"))['_mean','value'].mean()\n"
     ]
    }
   ],
   "source": [
    "df_concat_avarage_2021=df_concat_sel_2021.groupby(pd.PeriodIndex(df_concat_sel_2021['utc'],freq=\"M\"))['_mean','value'].mean()"
   ]
  },
  {
   "cell_type": "code",
   "execution_count": 76,
   "id": "84830ec6-4939-4e2e-af76-6637c5e1b86e",
   "metadata": {},
   "outputs": [
    {
     "data": {
      "text/html": [
       "<div>\n",
       "<style scoped>\n",
       "    .dataframe tbody tr th:only-of-type {\n",
       "        vertical-align: middle;\n",
       "    }\n",
       "\n",
       "    .dataframe tbody tr th {\n",
       "        vertical-align: top;\n",
       "    }\n",
       "\n",
       "    .dataframe thead th {\n",
       "        text-align: right;\n",
       "    }\n",
       "</style>\n",
       "<table border=\"1\" class=\"dataframe\">\n",
       "  <thead>\n",
       "    <tr style=\"text-align: right;\">\n",
       "      <th></th>\n",
       "      <th>_mean</th>\n",
       "      <th>value</th>\n",
       "    </tr>\n",
       "    <tr>\n",
       "      <th>utc</th>\n",
       "      <th></th>\n",
       "      <th></th>\n",
       "    </tr>\n",
       "  </thead>\n",
       "  <tbody>\n",
       "    <tr>\n",
       "      <th>2021-02</th>\n",
       "      <td>30.219338</td>\n",
       "      <td>46.695461</td>\n",
       "    </tr>\n",
       "    <tr>\n",
       "      <th>2021-03</th>\n",
       "      <td>32.712493</td>\n",
       "      <td>46.147059</td>\n",
       "    </tr>\n",
       "    <tr>\n",
       "      <th>2021-04</th>\n",
       "      <td>29.416243</td>\n",
       "      <td>43.098474</td>\n",
       "    </tr>\n",
       "  </tbody>\n",
       "</table>\n",
       "</div>"
      ],
      "text/plain": [
       "             _mean      value\n",
       "utc                          \n",
       "2021-02  30.219338  46.695461\n",
       "2021-03  32.712493  46.147059\n",
       "2021-04  29.416243  43.098474"
      ]
     },
     "execution_count": 76,
     "metadata": {},
     "output_type": "execute_result"
    }
   ],
   "source": [
    "df_concat_avarage_2021"
   ]
  },
  {
   "cell_type": "code",
   "execution_count": 77,
   "id": "30e5921b-b0fe-4862-bef8-ac5450582754",
   "metadata": {},
   "outputs": [],
   "source": [
    "df_concat_avarage_2021 = df_concat_avarage_2021.rename(columns={\"value\": \"pm25\", \"_mean\": \"lst_mean\"})"
   ]
  },
  {
   "cell_type": "code",
   "execution_count": 78,
   "id": "eed17c6a-6e6b-4939-9e1f-58351a72d5fe",
   "metadata": {},
   "outputs": [
    {
     "data": {
      "text/plain": [
       "<AxesSubplot:xlabel='utc'>"
      ]
     },
     "execution_count": 78,
     "metadata": {},
     "output_type": "execute_result"
    },
    {
     "data": {
      "image/png": "[encoded data removed]",
      "text/plain": [
       "<Figure size 720x504 with 1 Axes>"
      ]
     },
     "metadata": {
      "needs_background": "light"
     },
     "output_type": "display_data"
    }
   ],
   "source": [
    " df_concat_avarage_2021.plot.bar(figsize=(10,7))"
   ]
  },
  {
   "cell_type": "code",
   "execution_count": null,
   "id": "6831ef68-038f-4c47-adb9-d7cd86b9042e",
   "metadata": {},
   "outputs": [],
   "source": []
  }
 ],
 "metadata": {
  "kernelspec": {
   "display_name": "Python 3 (ipykernel)",
   "language": "python",
   "name": "python3"
  },
  "language_info": {
   "codemirror_mode": {
    "name": "ipython",
    "version": 3
   },
   "file_extension": ".py",
   "mimetype": "text/x-python",
   "name": "python",
   "nbconvert_exporter": "python",
   "pygments_lexer": "ipython3",
   "version": "3.8.12"
  }
 },
 "nbformat": 4,
 "nbformat_minor": 5
}
